{
 "cells": [
  {
   "cell_type": "markdown",
   "metadata": {},
   "source": [
    "## Articles used to help create this file"
   ]
  },
  {
   "cell_type": "code",
   "execution_count": null,
   "metadata": {},
   "outputs": [],
   "source": [
    "# https://medium.com/neo4j/langchain-library-adds-full-support-for-neo4j-vector-index-fa94b8eab334\n",
    "# https://medium.com/towards-data-science/efficient-semantic-search-over-unstructured-text-in-neo4j-8179ad7ff451\n",
    "# https://frodnar.github.io/posts/2023-09-30_building_llm_chatbot_neo4j/\n",
    "# https://python.langchain.com/docs/integrations/vectorstores/neo4jvector\n",
    "# https://python.langchain.com/docs/use_cases/more/graph/graph_cypher_qa"
   ]
  },
  {
   "cell_type": "code",
   "execution_count": null,
   "metadata": {},
   "outputs": [],
   "source": [
    "# FIRST STEP - Load the database dump into Neo4j Aura DB "
   ]
  },
  {
   "cell_type": "markdown",
   "metadata": {},
   "source": [
    "## Load Required Libraries & Connect to APIs"
   ]
  },
  {
   "cell_type": "code",
   "execution_count": 1,
   "metadata": {},
   "outputs": [
    {
     "name": "stderr",
     "output_type": "stream",
     "text": [
      "C:\\Users\\TimEa\\AppData\\Roaming\\Python\\Python38\\site-packages\\requests\\__init__.py:102: RequestsDependencyWarning: urllib3 (2.0.5) or chardet (3.0.4)/charset_normalizer (2.0.3) doesn't match a supported version!\n",
      "  warnings.warn(\"urllib3 ({}) or chardet ({})/charset_normalizer ({}) doesn't match a supported \"\n"
     ]
    }
   ],
   "source": [
    "from langchain.embeddings.openai import OpenAIEmbeddings\n",
    "from langchain.text_splitter import CharacterTextSplitter\n",
    "from langchain.vectorstores import Neo4jVector\n",
    "from langchain.document_loaders import TextLoader\n",
    "from langchain.docstore.document import Document\n",
    "import pandas as pd\n",
    "from langchain.graphs import Neo4jGraph\n",
    "import os\n",
    "import openai\n",
    "from neo4j import GraphDatabase\n",
    "from graphdatascience import GraphDataScience\n",
    "from sklearn.decomposition import PCA\n",
    "import plotly.express as px\n",
    "import umap\n",
    "from sklearn.cluster import KMeans\n",
    "from langchain.text_splitter import RecursiveCharacterTextSplitter"
   ]
  },
  {
   "cell_type": "code",
   "execution_count": 2,
   "metadata": {},
   "outputs": [
    {
     "name": "stderr",
     "output_type": "stream",
     "text": [
      "C:\\Users\\TimEa\\anaconda3\\lib\\site-packages\\langchain\\graphs\\neo4j_graph.py:52: ExperimentalWarning: The configuration may change in the future.\n",
      "  self._driver.verify_connectivity()\n"
     ]
    },
    {
     "ename": "ValueError",
     "evalue": "Could not connect to Neo4j database. Please ensure that the url is correct",
     "output_type": "error",
     "traceback": [
      "\u001b[1;31m---------------------------------------------------------------------------\u001b[0m",
      "\u001b[1;31mServiceUnavailable\u001b[0m                        Traceback (most recent call last)",
      "File \u001b[1;32m~\\anaconda3\\lib\\site-packages\\langchain\\graphs\\neo4j_graph.py:52\u001b[0m, in \u001b[0;36mNeo4jGraph.__init__\u001b[1;34m(self, url, username, password, database)\u001b[0m\n\u001b[0;32m     51\u001b[0m \u001b[38;5;28;01mtry\u001b[39;00m:\n\u001b[1;32m---> 52\u001b[0m     \u001b[38;5;28;43mself\u001b[39;49m\u001b[38;5;241;43m.\u001b[39;49m\u001b[43m_driver\u001b[49m\u001b[38;5;241;43m.\u001b[39;49m\u001b[43mverify_connectivity\u001b[49m\u001b[43m(\u001b[49m\u001b[43m)\u001b[49m\n\u001b[0;32m     53\u001b[0m \u001b[38;5;28;01mexcept\u001b[39;00m neo4j\u001b[38;5;241m.\u001b[39mexceptions\u001b[38;5;241m.\u001b[39mServiceUnavailable:\n",
      "File \u001b[1;32m~\\anaconda3\\lib\\site-packages\\neo4j\\meta.py:85\u001b[0m, in \u001b[0;36mexperimental.<locals>.f__.<locals>.f_\u001b[1;34m(*args, **kwargs)\u001b[0m\n\u001b[0;32m     84\u001b[0m warn(message, category\u001b[38;5;241m=\u001b[39mExperimentalWarning, stacklevel\u001b[38;5;241m=\u001b[39m\u001b[38;5;241m2\u001b[39m)\n\u001b[1;32m---> 85\u001b[0m \u001b[38;5;28;01mreturn\u001b[39;00m \u001b[43mf\u001b[49m\u001b[43m(\u001b[49m\u001b[38;5;241;43m*\u001b[39;49m\u001b[43margs\u001b[49m\u001b[43m,\u001b[49m\u001b[43m \u001b[49m\u001b[38;5;241;43m*\u001b[39;49m\u001b[38;5;241;43m*\u001b[39;49m\u001b[43mkwargs\u001b[49m\u001b[43m)\u001b[49m\n",
      "File \u001b[1;32m~\\anaconda3\\lib\\site-packages\\neo4j\\__init__.py:444\u001b[0m, in \u001b[0;36mNeo4jDriver.verify_connectivity\u001b[1;34m(self, **config)\u001b[0m\n\u001b[0;32m    443\u001b[0m \u001b[38;5;66;03m# TODO: Improve and update Stub Test Server to be able to test.\u001b[39;00m\n\u001b[1;32m--> 444\u001b[0m \u001b[38;5;28;01mreturn\u001b[39;00m \u001b[38;5;28;43mself\u001b[39;49m\u001b[38;5;241;43m.\u001b[39;49m\u001b[43m_verify_routing_connectivity\u001b[49m\u001b[43m(\u001b[49m\u001b[43m)\u001b[49m\n",
      "File \u001b[1;32m~\\anaconda3\\lib\\site-packages\\neo4j\\__init__.py:470\u001b[0m, in \u001b[0;36mNeo4jDriver._verify_routing_connectivity\u001b[1;34m(self)\u001b[0m\n\u001b[0;32m    469\u001b[0m         \u001b[38;5;28;01mreturn\u001b[39;00m routing_info\n\u001b[1;32m--> 470\u001b[0m \u001b[38;5;28;01mraise\u001b[39;00m ServiceUnavailable(\u001b[38;5;124m\"\u001b[39m\u001b[38;5;124mCould not connect to any routing servers.\u001b[39m\u001b[38;5;124m\"\u001b[39m)\n",
      "\u001b[1;31mServiceUnavailable\u001b[0m: Could not connect to any routing servers.",
      "\nDuring handling of the above exception, another exception occurred:\n",
      "\u001b[1;31mValueError\u001b[0m                                Traceback (most recent call last)",
      "Cell \u001b[1;32mIn[2], line 5\u001b[0m\n\u001b[0;32m      2\u001b[0m username \u001b[38;5;241m=\u001b[39m \u001b[38;5;124m\"\u001b[39m\u001b[38;5;124mneo4j\u001b[39m\u001b[38;5;124m\"\u001b[39m\n\u001b[0;32m      3\u001b[0m password \u001b[38;5;241m=\u001b[39m \u001b[38;5;124m\"\u001b[39m\u001b[38;5;124m\"\u001b[39m\n\u001b[1;32m----> 5\u001b[0m graph \u001b[38;5;241m=\u001b[39m \u001b[43mNeo4jGraph\u001b[49m\u001b[43m(\u001b[49m\n\u001b[0;32m      6\u001b[0m \u001b[43m    \u001b[49m\u001b[43murl\u001b[49m\u001b[38;5;241;43m=\u001b[39;49m\u001b[43murl\u001b[49m\u001b[43m,\u001b[49m\n\u001b[0;32m      7\u001b[0m \u001b[43m    \u001b[49m\u001b[43musername\u001b[49m\u001b[38;5;241;43m=\u001b[39;49m\u001b[43musername\u001b[49m\u001b[43m,\u001b[49m\n\u001b[0;32m      8\u001b[0m \u001b[43m    \u001b[49m\u001b[43mpassword\u001b[49m\u001b[38;5;241;43m=\u001b[39;49m\u001b[43mpassword\u001b[49m\n\u001b[0;32m      9\u001b[0m \u001b[43m)\u001b[49m\n",
      "File \u001b[1;32m~\\anaconda3\\lib\\site-packages\\langchain\\graphs\\neo4j_graph.py:54\u001b[0m, in \u001b[0;36mNeo4jGraph.__init__\u001b[1;34m(self, url, username, password, database)\u001b[0m\n\u001b[0;32m     52\u001b[0m     \u001b[38;5;28mself\u001b[39m\u001b[38;5;241m.\u001b[39m_driver\u001b[38;5;241m.\u001b[39mverify_connectivity()\n\u001b[0;32m     53\u001b[0m \u001b[38;5;28;01mexcept\u001b[39;00m neo4j\u001b[38;5;241m.\u001b[39mexceptions\u001b[38;5;241m.\u001b[39mServiceUnavailable:\n\u001b[1;32m---> 54\u001b[0m     \u001b[38;5;28;01mraise\u001b[39;00m \u001b[38;5;167;01mValueError\u001b[39;00m(\n\u001b[0;32m     55\u001b[0m         \u001b[38;5;124m\"\u001b[39m\u001b[38;5;124mCould not connect to Neo4j database. \u001b[39m\u001b[38;5;124m\"\u001b[39m\n\u001b[0;32m     56\u001b[0m         \u001b[38;5;124m\"\u001b[39m\u001b[38;5;124mPlease ensure that the url is correct\u001b[39m\u001b[38;5;124m\"\u001b[39m\n\u001b[0;32m     57\u001b[0m     )\n\u001b[0;32m     58\u001b[0m \u001b[38;5;28;01mexcept\u001b[39;00m neo4j\u001b[38;5;241m.\u001b[39mexceptions\u001b[38;5;241m.\u001b[39mAuthError:\n\u001b[0;32m     59\u001b[0m     \u001b[38;5;28;01mraise\u001b[39;00m \u001b[38;5;167;01mValueError\u001b[39;00m(\n\u001b[0;32m     60\u001b[0m         \u001b[38;5;124m\"\u001b[39m\u001b[38;5;124mCould not connect to Neo4j database. \u001b[39m\u001b[38;5;124m\"\u001b[39m\n\u001b[0;32m     61\u001b[0m         \u001b[38;5;124m\"\u001b[39m\u001b[38;5;124mPlease ensure that the username and password are correct\u001b[39m\u001b[38;5;124m\"\u001b[39m\n\u001b[0;32m     62\u001b[0m     )\n",
      "\u001b[1;31mValueError\u001b[0m: Could not connect to Neo4j database. Please ensure that the url is correct"
     ]
    }
   ],
   "source": [
    "url = \"neo4j+s://483c47f7.databases.neo4j.io\"\n",
    "username = \"neo4j\"\n",
    "password = \"\"\n",
    "\n",
    "graph = Neo4jGraph(\n",
    "    url=url,\n",
    "    username=username,\n",
    "    password=password\n",
    ")"
   ]
  },
  {
   "cell_type": "code",
   "execution_count": null,
   "metadata": {},
   "outputs": [],
   "source": [
    "openai_api_key = \"\"\n",
    "openai.api_key = openai_api_key\n",
    "# openai.Model.list()"
   ]
  },
  {
   "cell_type": "code",
   "execution_count": null,
   "metadata": {},
   "outputs": [],
   "source": [
    "os.environ['OPENAI_API_KEY'] = openai_api_key"
   ]
  },
  {
   "cell_type": "code",
   "execution_count": null,
   "metadata": {},
   "outputs": [],
   "source": [
    "driver = GraphDatabase.driver(url, auth=(username, password))\n",
    "session = driver.session()"
   ]
  },
  {
   "cell_type": "markdown",
   "metadata": {},
   "source": [
    "# Begin Analysis"
   ]
  },
  {
   "cell_type": "markdown",
   "metadata": {},
   "source": [
    "#### Grab a document and check to see if it's chunked or if the whole document has been embedded"
   ]
  },
  {
   "cell_type": "code",
   "execution_count": null,
   "metadata": {},
   "outputs": [],
   "source": [
    "def get_dataframe(query):\n",
    "    with driver.session() as session:\n",
    "        result = session.run(query)\n",
    "        return pd.DataFrame([r.values() for r in result], columns=result.keys())\n",
    "\n",
    "# Now use the function to get a DataFrame:\n",
    "df = get_dataframe(\"MATCH (a) RETURN id(a) LIMIT 1\")\n",
    "driver.close()\n",
    "print(df)"
   ]
  },
  {
   "cell_type": "code",
   "execution_count": null,
   "metadata": {},
   "outputs": [],
   "source": [
    "q = \"MATCH (a:Document) RETURN count(a) as Number_Documets LIMIT 1\"\n",
    "\n",
    "df = get_dataframe(q)\n",
    "driver.close()\n",
    "print(df)"
   ]
  },
  {
   "cell_type": "code",
   "execution_count": null,
   "metadata": {},
   "outputs": [],
   "source": [
    "q = \"\"\"\n",
    "MATCH (a:Document)\n",
    "RETURN substring(toString(a.date), 0, 4) AS Year, count(a) AS Number_Documents_by_Year\n",
    "ORDER BY Year\n",
    "\"\"\"\n",
    "\n",
    "df = get_dataframe(q)\n",
    "driver.close()\n",
    "print(df)"
   ]
  },
  {
   "cell_type": "code",
   "execution_count": null,
   "metadata": {},
   "outputs": [],
   "source": []
  },
  {
   "cell_type": "markdown",
   "metadata": {},
   "source": [
    "# Explore the topics"
   ]
  },
  {
   "cell_type": "code",
   "execution_count": null,
   "metadata": {},
   "outputs": [],
   "source": [
    "q = \"\"\"\n",
    "MATCH (a:Topic)<-[r:IS_IN]-(b:Document)\n",
    "RETURN a.name as Topic_Name, count(b) as topic_count\n",
    "ORDER BY topic_count DESC\n",
    "LIMIT 5\n",
    "\"\"\"\n",
    "\n",
    "df = get_dataframe(q)\n",
    "driver.close()\n",
    "print(df)"
   ]
  },
  {
   "cell_type": "code",
   "execution_count": null,
   "metadata": {},
   "outputs": [],
   "source": [
    "q = \"\"\"\n",
    "MATCH (a:Document)-[r:ASSIGNED_TO]->(b)\n",
    "//WHERE b.name CONTAINS ('Bank')\n",
    "RETURN b.name as Assignee_Name, count(a) as document_count\n",
    "ORDER BY document_count DESC\n",
    "LIMIT 5\n",
    "\"\"\"\n",
    "\n",
    "df = get_dataframe(q)\n",
    "driver.close()\n",
    "print(df)"
   ]
  },
  {
   "cell_type": "code",
   "execution_count": null,
   "metadata": {
    "scrolled": true
   },
   "outputs": [],
   "source": [
    "q = \"\"\"\n",
    "MATCH (c:Topic)<-[r2:IS_IN]-(a:Document)-[r:ASSIGNED_TO]->(b)\n",
    "//WHERE b.name CONTAINS ('Bank')\n",
    "RETURN b.name as Assignee_Name, c.name as Topic_Name, count(a) as document_count\n",
    "ORDER BY document_count DESC\n",
    "LIMIT 5\n",
    "\"\"\"\n",
    "\n",
    "df = get_dataframe(q)\n",
    "driver.close()\n",
    "display(df)"
   ]
  },
  {
   "cell_type": "code",
   "execution_count": null,
   "metadata": {
    "scrolled": true
   },
   "outputs": [],
   "source": [
    "q = \"\"\"\n",
    "MATCH (c:Topic)<-[r2:IS_IN]-(a:Document)-[r:ASSIGNED_TO]->(b)\n",
    "WHERE b.name = 'MICROSOFT TECHNOLOGY LICENSING, LLC'\n",
    "RETURN a.abstract\n",
    "\"\"\"\n",
    "\n",
    "df = get_dataframe(q)\n",
    "driver.close()\n",
    "#print(df)"
   ]
  },
  {
   "cell_type": "code",
   "execution_count": null,
   "metadata": {},
   "outputs": [],
   "source": [
    "print(df.loc[0, 'a.abstract'])"
   ]
  },
  {
   "cell_type": "markdown",
   "metadata": {},
   "source": [
    "# Gather data to send to ChatGPT"
   ]
  },
  {
   "cell_type": "code",
   "execution_count": null,
   "metadata": {},
   "outputs": [],
   "source": [
    "q = \"\"\"\n",
    "MATCH (c:Topic)<-[r2:IS_IN]-(a:Document)-[r:ASSIGNED_TO]->(b:Assignee)\n",
    "WHERE c.name = 'Machine Learning'\n",
    "RETURN id(a) as ida\n",
    ", a.title as Patent_Title \n",
    ", b.name as Patent_Owner\n",
    ", a.abstract as Patent_Abstract\n",
    "LIMIT 300\n",
    "\"\"\"\n",
    "\n",
    "df = get_dataframe(q)\n",
    "driver.close()\n",
    "display(df.head())"
   ]
  },
  {
   "cell_type": "code",
   "execution_count": null,
   "metadata": {},
   "outputs": [],
   "source": [
    "def summarize_abstract(abstract_text):\n",
    "    response = openai.Completion.create(\n",
    "      model=\"text-davinci-002\", \n",
    "      prompt=f\"Summarize the following patent abstract in laymen's terms in fewer than 100 tokens: {abstract_text}\",\n",
    "      max_tokens=100\n",
    "    )\n",
    "    return response.choices[0].text.strip()\n",
    "\n",
    "# Loop through the dataframe and apply the summary function\n",
    "df['Summary'] = df['Patent_Abstract'].apply(summarize_abstract)\n",
    "\n",
    "# Display the updated dataframe with summaries\n",
    "display(df.head())"
   ]
  },
  {
   "cell_type": "code",
   "execution_count": null,
   "metadata": {},
   "outputs": [],
   "source": [
    "#View the response from ChatGPT\n",
    "pd.set_option('display.max_colwidth', None)\n",
    "print(df['Summary'])"
   ]
  },
  {
   "cell_type": "markdown",
   "metadata": {},
   "source": [
    "# Write the summaries back to Neo4j"
   ]
  },
  {
   "cell_type": "code",
   "execution_count": null,
   "metadata": {},
   "outputs": [],
   "source": [
    "# Update node summary\n",
    "def update_node_summary(session, node_id, summary):\n",
    "    query = \"\"\"\n",
    "    MATCH (a:Document) \n",
    "    WHERE id(a) = $node_id\n",
    "    SET a.Summary = $summary\n",
    "    \"\"\"\n",
    "    session.run(query, node_id=node_id, summary=summary)\n",
    "\n",
    "# Loop through DataFrame and update each node\n",
    "with driver.session() as session:\n",
    "    for index, row in df.iterrows():\n",
    "        node_id = row['ida']\n",
    "        summary = row['Summary']\n",
    "        update_node_summary(session, node_id, summary)\n",
    "\n",
    "driver.close()"
   ]
  },
  {
   "cell_type": "code",
   "execution_count": null,
   "metadata": {},
   "outputs": [],
   "source": []
  },
  {
   "cell_type": "markdown",
   "metadata": {},
   "source": [
    "# Create Embeddings"
   ]
  },
  {
   "cell_type": "code",
   "execution_count": null,
   "metadata": {},
   "outputs": [],
   "source": [
    "q = f\"\"\"MATCH (a:Document) \n",
    "    WHERE a.Summary is not null\n",
    "    RETURN id(a) as ida, a.Summary as Summary\n",
    "    \"\"\"\n",
    "\n",
    "df = get_dataframe(q)\n",
    "driver.close()\n",
    "print(df)"
   ]
  },
  {
   "cell_type": "code",
   "execution_count": null,
   "metadata": {},
   "outputs": [],
   "source": [
    "summaries = df['Summary'].tolist()"
   ]
  },
  {
   "cell_type": "code",
   "execution_count": null,
   "metadata": {},
   "outputs": [],
   "source": [
    "empty_indices = [i for i, summary in enumerate(summaries) if not summary or pd.isna(summary)]\n",
    "print(empty_indices)"
   ]
  },
  {
   "cell_type": "code",
   "execution_count": null,
   "metadata": {},
   "outputs": [],
   "source": [
    "print(summaries[140])"
   ]
  },
  {
   "cell_type": "code",
   "execution_count": null,
   "metadata": {},
   "outputs": [],
   "source": [
    "text_splitter = RecursiveCharacterTextSplitter(\n",
    "    # Set a really small chunk size, just to show.\n",
    "    chunk_size = 10000,\n",
    "    chunk_overlap  = 0,\n",
    "    length_function = len,\n",
    "    add_start_index = True,\n",
    ")"
   ]
  },
  {
   "cell_type": "code",
   "execution_count": null,
   "metadata": {},
   "outputs": [],
   "source": [
    "texts = text_splitter.create_documents(summaries)"
   ]
  },
  {
   "cell_type": "code",
   "execution_count": null,
   "metadata": {},
   "outputs": [],
   "source": [
    "len(texts)"
   ]
  },
  {
   "cell_type": "code",
   "execution_count": null,
   "metadata": {},
   "outputs": [],
   "source": [
    "len(summaries)"
   ]
  },
  {
   "cell_type": "code",
   "execution_count": null,
   "metadata": {},
   "outputs": [],
   "source": [
    "graph.query(\"\"\"\n",
    "CALL db.index.vector.createNodeIndex(\n",
    "  'patent_summary_embeddings', // index name\n",
    "  'Chunk',                     // node label\n",
    "  'embedding',                 // node property\n",
    "   1536,                       // vector size\n",
    "   'cosine'                    // similarity metric\n",
    ")\n",
    "\"\"\")"
   ]
  },
  {
   "cell_type": "code",
   "execution_count": null,
   "metadata": {},
   "outputs": [],
   "source": [
    "neo4j_vector = Neo4jVector.from_documents(\n",
    "    texts,\n",
    "    OpenAIEmbeddings(),\n",
    "    url=url,\n",
    "    username=username,\n",
    "    password=password\n",
    ")"
   ]
  },
  {
   "cell_type": "markdown",
   "metadata": {},
   "source": [
    "# Query / Return Embeddings"
   ]
  },
  {
   "cell_type": "code",
   "execution_count": null,
   "metadata": {},
   "outputs": [],
   "source": [
    "q = f\"\"\"MATCH (a:Chunk) \n",
    "    RETURN id(a) as ida\n",
    "    , a.embedding as Embedding\n",
    "    , a.text as Text\n",
    "    \"\"\"\n",
    "\n",
    "df = get_dataframe(q)\n",
    "driver.close()\n",
    "print(df)"
   ]
  },
  {
   "cell_type": "code",
   "execution_count": null,
   "metadata": {},
   "outputs": [],
   "source": []
  },
  {
   "cell_type": "code",
   "execution_count": null,
   "metadata": {},
   "outputs": [],
   "source": []
  }
 ],
 "metadata": {
  "kernelspec": {
   "display_name": "Python 3",
   "language": "python",
   "name": "python3"
  },
  "language_info": {
   "codemirror_mode": {
    "name": "ipython",
    "version": 3
   },
   "file_extension": ".py",
   "mimetype": "text/x-python",
   "name": "python",
   "nbconvert_exporter": "python",
   "pygments_lexer": "ipython3",
   "version": "3.8.5"
  }
 },
 "nbformat": 4,
 "nbformat_minor": 4
}
